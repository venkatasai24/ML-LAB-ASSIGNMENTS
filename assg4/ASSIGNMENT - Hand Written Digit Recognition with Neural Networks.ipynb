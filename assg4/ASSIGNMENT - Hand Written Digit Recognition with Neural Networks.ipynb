{
 "cells": [
  {
   "cell_type": "markdown",
   "id": "bored-updating",
   "metadata": {},
   "source": [
    "#### Importing Libraries"
   ]
  },
  {
   "cell_type": "code",
   "execution_count": 2,
   "id": "prime-observer",
   "metadata": {},
   "outputs": [],
   "source": [
    "import numpy as np\n",
    "import matplotlib.pyplot as plt\n",
    "import random"
   ]
  },
  {
   "cell_type": "markdown",
   "id": "primary-craps",
   "metadata": {},
   "source": [
    "# Importing Datasets\n",
    "\n",
    "I have already imported the dataset. If you want to use a different dataset, then you can give its path down below.\n",
    "\n",
    "The shape of X should be (n, m),\n",
    "And that of Y should be (10, m)\n",
    "\n",
    "Here, \n",
    "- n = total number of features\n",
    "- m = total number of observations in our dataset\n",
    "- 10 = number of output classes"
   ]
  },
  {
   "cell_type": "code",
   "execution_count": 3,
   "id": "accredited-decimal",
   "metadata": {},
   "outputs": [],
   "source": [
    "X_train = np.loadtxt('train_X.csv', delimiter = ',')\n",
    "Y_train = np.loadtxt('train_label.csv', delimiter = ',')\n",
    "\n",
    "Y_train = Y_train.T\n",
    "X_train = X_train.T"
   ]
  },
  {
   "cell_type": "code",
   "execution_count": 4,
   "id": "mexican-penetration",
   "metadata": {},
   "outputs": [],
   "source": [
    "X_test = np.loadtxt('test_X.csv', delimiter = ',')\n",
    "Y_test = np.loadtxt('test_label.csv', delimiter = ',')\n",
    "\n",
    "X_test = X_test.T\n",
    "Y_test = Y_test.T"
   ]
  },
  {
   "cell_type": "code",
   "execution_count": 5,
   "id": "sticky-today",
   "metadata": {},
   "outputs": [
    {
     "name": "stdout",
     "output_type": "stream",
     "text": [
      "shape of X_train :  (784, 1000)\n",
      "shape of Y_train :  (10, 1000)\n",
      "shape of X_test :  (784, 350)\n",
      "shape of Y_test :  (10, 350)\n"
     ]
    }
   ],
   "source": [
    "print(\"shape of X_train : \", X_train.shape)\n",
    "print(\"shape of Y_train : \", Y_train.shape)\n",
    "\n",
    "print(\"shape of X_test : \", X_test.shape)\n",
    "print(\"shape of Y_test : \", Y_test.shape)"
   ]
  },
  {
   "cell_type": "markdown",
   "id": "attached-association",
   "metadata": {},
   "source": [
    "### Visualizing our Dataset\n",
    "\n",
    "Our dataset is in the form of numbers. So, to visualize it properly, we will display it in the form of image"
   ]
  },
  {
   "cell_type": "code",
   "execution_count": 6,
   "id": "excess-expression",
   "metadata": {},
   "outputs": [
    {
     "data": {
      "image/png": "[encoded data removed]",
      "text/plain": [
       "<Figure size 640x480 with 1 Axes>"
      ]
     },
     "metadata": {},
     "output_type": "display_data"
    }
   ],
   "source": [
    "index = int(random.randrange(0,X_train.shape[1]))\n",
    "plt.imshow(X_train[:, index].reshape((28,28)),cmap='gray')\n",
    "plt.show()"
   ]
  },
  {
   "cell_type": "markdown",
   "id": "conservative-graphic",
   "metadata": {},
   "source": [
    "# Model\n",
    "\n",
    "![nn](Images/nn.png)\n",
    "\n",
    "## Initialize parameters Randomly\n",
    "$ W_1 = np.random.randn(n_1, n_0) $\n",
    "\n",
    "$ b_1 = np.zeros((n_1, 1))$\n",
    "\n",
    "$ W_2 = np.random.randn(n_2, n_1) $\n",
    "\n",
    "$ b_2 = np.zeros((n_2, 1))$\n",
    "\n",
    "\n",
    "## *Repeat Below Steps for many times : *\n",
    "\n",
    "\n",
    "## Forward Propagation \n",
    "\n",
    "$ Z_1 = W_1 * X + B_1 $\n",
    "\n",
    "$ A_1 = f ( Z_1 ) $  \n",
    "\n",
    "$ Z_2 = W2 * A_1 + B_2 $\n",
    "\n",
    "$ A_2 = Softmax( Z_2 ) $\n",
    "\n",
    "## Softmax \n",
    "\n",
    "$ a_i = \\frac{e^{z_i}}{\\sum_{i=k}^ne^{z_k}}$\n",
    "\n",
    "\n",
    "## Cost Function \n",
    "\n",
    "$Loss = - \\sum_{i=k}^{n}[ y_k*log(a_k) ]$\n",
    "\n",
    "$Cost = - \\frac{1}{m}\\sum_{i=1}^{m}\\sum_{k=1}^{n}[ y_k*log(a_k) ]$\n",
    "\n",
    "\n",
    "\n",
    "## Backward Propagation\n",
    "$dZ_2 = ( A_2 - Y )$\n",
    "\n",
    "$ dW_2 = \\frac{1}{m}. dZ_2 . A_1^T$\n",
    "\n",
    "$ dB_2 = \\frac{1}{m}.sum(dZ_2, 1)$\n",
    "\n",
    "\n",
    "\n",
    "$dZ_1 = W_2^T . dZ_2 * f_1^|(Z_1) $\n",
    "\n",
    "$dW_1 = \\frac{1}{m}.dZ_1.X^T$\n",
    "\n",
    "$dB_1 = \\frac{1}{m}.sum(dZ_1, 1)$\n",
    "\n",
    "\n",
    "## Updating Parameters\n",
    "\n",
    "$ W_2 = W_2 -  \\alpha * \\frac{\\partial Cost }{\\partial W_2}$ \n",
    "\n",
    "$ B_2 = B_2 -  \\alpha * \\frac{\\partial Cost }{\\partial B_2}$ \n",
    "\n",
    "$ W_1 = W_1 -  \\alpha * \\frac{\\partial Cost }{\\partial W_1}$ \n",
    "\n",
    "$ B_1 = B_1 -  \\alpha * \\frac{\\partial Cost }{\\partial B_1}$ \n"
   ]
  },
  {
   "cell_type": "markdown",
   "id": "private-seven",
   "metadata": {},
   "source": [
    "# Activation Functions\n",
    "\n",
    "***Now, its your time to implement !***\n",
    "\n",
    "Complete the below functions for Activations."
   ]
  },
  {
   "cell_type": "code",
   "execution_count": 7,
   "id": "better-winning",
   "metadata": {},
   "outputs": [],
   "source": [
    "def tanh(x):\n",
    "    ## Your Code Here ##\n",
    "    return np.tanh(x)\n",
    "    ## Code Ends ##"
   ]
  },
  {
   "cell_type": "code",
   "execution_count": 8,
   "id": "immune-wright",
   "metadata": {},
   "outputs": [],
   "source": [
    "def relu(x):\n",
    "    ## Your Code Here ##\n",
    "    return np.maximum(x,0)\n",
    "    ## Code Ends ##"
   ]
  },
  {
   "cell_type": "code",
   "execution_count": 9,
   "id": "several-roommate",
   "metadata": {},
   "outputs": [],
   "source": [
    "def softmax(z):\n",
    "    ## Your Code Here ##\n",
    "    expz = np.exp(z)\n",
    "    return expz/np.sum(expz,axis=0)\n",
    "    ## Code Ends ##"
   ]
  },
  {
   "cell_type": "markdown",
   "id": "smart-gambling",
   "metadata": {},
   "source": [
    "The function *derivative_tanh* must return the derivative of tanh.\n",
    "The function *derivative_relu* must return the derivative of ReLU\n",
    "\n",
    "\n",
    "Also note, I made a small mistake in video. derivative of tanh is given by 1 - tanh^2(x).\n",
    "\n",
    "\n",
    "so, derivative_tanh(x):\n",
    "\n",
    "return 1 - np.power(np.tanh(x), 2)"
   ]
  },
  {
   "cell_type": "code",
   "execution_count": 10,
   "id": "german-stake",
   "metadata": {},
   "outputs": [],
   "source": [
    "def derivative_tanh(x):\n",
    "    ## Your Code Here ##\n",
    "    return 1-np.power(np.tanh(x),2)\n",
    "    ## Code Ends ##\n",
    "\n",
    "def derivative_relu(x):\n",
    "    ## Your Code Here ##\n",
    "    return np.array(x>0,dtype=np.float32)\n",
    "    ## Code Ends ##"
   ]
  },
  {
   "cell_type": "markdown",
   "id": "forward-heading",
   "metadata": {},
   "source": [
    "# Initialize Parameters\n",
    "\n",
    "We need to initialize the **W** parameters randomly, and **B** with zeros\n",
    "\n",
    "- np.random.randn(a, b) return a numpy array of shape(a, b) with small random values\n",
    "- For making the values small, we multiply 0.01\n",
    "- np.zeros((a, b) return a numpy array of shape(a, b) with zeros \n",
    "\n",
    "### Why need small weights W?\n",
    "If we initialize weights will large values, then Z = W * X + B, will be large. For functions like tanh and sigmoid, the slope becomes very less for large Z value, thus learning can be very slow.\n",
    "\n",
    "#### Remember, we had an increase in the cost function at the beginning while training the model with ReLU activation function?\n",
    "It is because our weights were still very large and it was creating problem for training our model.\n",
    "\n",
    "Multiply weights with 0.001 instead of 0.01, and you will see that the graph becomes normal, with a smooth decrease in cost value.\n",
    "\n",
    "There are many weight initialization techniques available as well, to solve other such problems. We will learn those in the upcoming videos.\n",
    "\n",
    "Now, We need to return a dictionary containing all the parameters.\n",
    "\n",
    "More about np.random.randn here : https://numpy.org/doc/stable/reference/random/generated/numpy.random.randn.html"
   ]
  },
  {
   "cell_type": "code",
   "execution_count": 11,
   "id": "several-textbook",
   "metadata": {},
   "outputs": [],
   "source": [
    "def initialize_parameters(n_x, n_h, n_y):\n",
    "    \n",
    "    ## Complete the code below ##\n",
    "    w1 = np.random.randn(n_h,n_x)*0.01\n",
    "    b1 = np.zeros((n_h,1))\n",
    "    w2 = np.random.randn(n_y,n_h)*0.01\n",
    "    b2 = np.zeros((n_y,1))\n",
    "    ## Your Code ends ##\n",
    "    \n",
    "    parameters = {\n",
    "        \"w1\" : w1, \n",
    "        \"b1\" : b1, \n",
    "        \"w2\" : w2,\n",
    "        \"b2\" : b2\n",
    "    }\n",
    "    \n",
    "    return parameters"
   ]
  },
  {
   "cell_type": "markdown",
   "id": "listed-sauce",
   "metadata": {},
   "source": [
    "# Forward Propagation\n",
    "\n",
    "We need to impletement the following equation for forward propagation :\n",
    "\n",
    "$ Z_1 = W_1 * X + B_1 $\n",
    "\n",
    "$ A_1 = f ( Z_1 ) $  \n",
    "\n",
    "$ Z_2 = W2 * A_1 + B_2 $\n",
    "\n",
    "$ A_2 = Softmax( Z_2 ) $\n",
    "\n",
    "For f(x), you can use either tanh or ReLU activation function. \n",
    "\n",
    "But also use the same for Backpropagation as well"
   ]
  },
  {
   "cell_type": "code",
   "execution_count": 12,
   "id": "described-excess",
   "metadata": {},
   "outputs": [],
   "source": [
    "def forward_prop(x, parameters):\n",
    "    \n",
    "    # To fetch the parameters\n",
    "    w1 = parameters['w1']\n",
    "    b1 = parameters['b1']\n",
    "    w2 = parameters['w2']\n",
    "    b2 = parameters['b2']\n",
    "    \n",
    "    ## Complete the Code below : ##\n",
    "    z1 = np.dot(w1,x) + b1\n",
    "    a1 = tanh(z1)\n",
    "    z2 = np.dot(w2,a1) + b2\n",
    "    a2 = softmax(z2)\n",
    "    ## Your Code ends ##\n",
    "    \n",
    "    # To return our Zs and As\n",
    "    forward_cache = {\n",
    "        \"z1\" : z1,\n",
    "        \"a1\" : a1,\n",
    "        \"z2\" : z2,\n",
    "        \"a2\" : a2\n",
    "    }\n",
    "    \n",
    "    return forward_cache"
   ]
  },
  {
   "cell_type": "markdown",
   "id": "sharp-tourist",
   "metadata": {},
   "source": [
    "# Cost Function\n",
    "\n",
    "$Loss = - \\sum_{k=1}^{n}[ y_k*log(a_k) ]$ .. *for 1 observation*\n",
    "\n",
    "$Cost = - \\frac{1}{m}\\sum_{i=1}^{m}\\sum_{k=1}^{n}[ y_k*log(a_k) ]$  .. *for all m observations*\n",
    "\n",
    "You need to return the cost in the below function\n",
    "\n",
    "You can use np.sum()\n",
    "- np.sum(A, axis = 1, keepdims = True) return the column-wise sum for a matrix A\n",
    "- np.sum(A, axis = 0, keepdims = True) returns the row-wise sum for a matrix A\n",
    "- np.sum(A) returns the summation of all the elements of A\n",
    "\n",
    "*keepdims = True keeps the dimenstion in place. In certain cases, the returned sum can be of shape(m,) instead of shape(m, 1).\n",
    "So, keepdims = True forces it to return the sum in shape(m, 1) instead of shape(m,)*\n",
    "\n",
    "\n",
    "More about np.sum() here : https://numpy.org/doc/stable/reference/generated/numpy.sum.html"
   ]
  },
  {
   "cell_type": "code",
   "execution_count": 13,
   "id": "conservative-straight",
   "metadata": {},
   "outputs": [],
   "source": [
    "def cost_function(a2, y):\n",
    "    \n",
    "    ## Your Code Here ##\n",
    "    m = y.shape[1]\n",
    "    return -(1/m)*np.sum(y*np.log(a2))\n",
    "    ## Code Ends ##"
   ]
  },
  {
   "cell_type": "markdown",
   "id": "configured-draft",
   "metadata": {},
   "source": [
    "# Backward Propagation\n",
    "\n",
    "We need to implement the below equations\n",
    "\n",
    "$dZ_2 = ( A_2 - Y )$\n",
    "\n",
    "$ dW_2 = \\frac{1}{m}. dZ_2 . A_2^T$\n",
    "\n",
    "$ dB_2 = \\frac{1}{m}.sum(dZ_2, 1)$\n",
    "\n",
    "\n",
    "\n",
    "$dZ_1 = W_2^T . dZ_2 * f_1^|(Z_1) $\n",
    "\n",
    "$dW_1 = \\frac{1}{m}.dZ_1.A_1^T$\n",
    "\n",
    "$dB_1 = \\frac{1}{m}.sum(dZ_1, 1)$\n",
    "\n",
    "Helper python functions :\n",
    "- A.T returns the transpose of matrix A\n",
    "- np.dot(A, B) returns the matrix multiplication of A and B\n",
    "- A*B returns the element wise multi-plication for A and B\n",
    "- np.sum(A, axis = 1, keepdims = True) return the column-wise sum for a matrix A\n",
    "- np.sum(A, axis = 0, keepdims = True) returns the row-wise sum for a matrix A"
   ]
  },
  {
   "cell_type": "code",
   "execution_count": 14,
   "id": "regulation-internship",
   "metadata": {},
   "outputs": [],
   "source": [
    "def backward_prop(x, y, parameters, forward_cache):\n",
    "    \n",
    "    m = x.shape[1]\n",
    "    \n",
    "    # Fetching our parameters\n",
    "    w1 = parameters['w1']\n",
    "    b1 = parameters['b1']\n",
    "    w2 = parameters['w2']\n",
    "    b2 = parameters['b2'] \n",
    "    \n",
    "    # Fetching our forward_cache\n",
    "    a1 = forward_cache['a1']\n",
    "    a2 = forward_cache['a2']\n",
    "    \n",
    "    \n",
    "    ## Complete the Code below ##\n",
    "    dz2 = (a2 - y)\n",
    "    dw2 = (1/m)*np.dot(dz2, a1.T)\n",
    "    db2 = (1/m)*np.sum(dz2, axis = 1, keepdims = True)\n",
    "    \n",
    "    dz1 = (1/m)*np.dot(w2.T, dz2)*derivative_tanh(a1)\n",
    "    dw1 = (1/m)*np.dot(dz1, x.T)\n",
    "    db1 = (1/m)*np.sum(dz1, axis = 1, keepdims = True)\n",
    "    ## Your Code ends ##\n",
    "    \n",
    "    ## Returning the Gradients\n",
    "    gradients = {\n",
    "        \"dw1\" : dw1,\n",
    "        \"db1\" : db1,\n",
    "        \"dw2\" : dw2, \n",
    "        \"db2\" : db2\n",
    "    }\n",
    "    \n",
    "    return gradients"
   ]
  },
  {
   "cell_type": "markdown",
   "id": "soviet-sentence",
   "metadata": {},
   "source": [
    "# Update Parameters"
   ]
  },
  {
   "cell_type": "code",
   "execution_count": 15,
   "id": "convertible-samba",
   "metadata": {},
   "outputs": [],
   "source": [
    "def update_parameters(parameters, gradients, learning_rate):\n",
    "    \n",
    "    # Fetching our parameters\n",
    "    w1 = parameters['w1']\n",
    "    b1 = parameters['b1']\n",
    "    w2 = parameters['w2']\n",
    "    b2 = parameters['b2'] \n",
    "    \n",
    "    # Fetching our gradients\n",
    "    dw1 = gradients['dw1']\n",
    "    db1 = gradients['db1']\n",
    "    dw2 = gradients['dw2']\n",
    "    db2 = gradients['db2']\n",
    "    \n",
    "    ## Complete the Code below ##\n",
    "    w1 = w1 - learning_rate*dw1\n",
    "    b1 = b1 - learning_rate*db1\n",
    "    w2 = w2 - learning_rate*dw2\n",
    "    b2 = b2 - learning_rate*db2\n",
    "    ## Your code ends ##\n",
    "    \n",
    "    # Returning the updated parameters\n",
    "    Parameters = {\n",
    "        \"w1\" : w1, \n",
    "        \"b1\" : b1, \n",
    "        \"w2\" : w2,\n",
    "        \"b2\" : b2\n",
    "    }\n",
    "    \n",
    "    return Parameters"
   ]
  },
  {
   "cell_type": "markdown",
   "id": "sharing-effort",
   "metadata": {},
   "source": [
    "# Complete Model\n",
    "\n",
    "Implement the entire Neural Network here\n",
    "\n",
    "### Instructions :\n",
    "\n",
    "We need to initialize parameters once, and after that, we will run the following in a loop:\n",
    "- forward_prop(x, parameters)\n",
    "- cost_function(a2, y)\n",
    "- backward_prop(x, y, parameters, forward_cache)\n",
    "- parameters = update_parameters(parameters, gradients, learning_rate)\n",
    "\n",
    "### Return :\n",
    "- parameters, which will be our trained parameters\n",
    "- cost_list, which contains cost for every iterations."
   ]
  },
  {
   "cell_type": "code",
   "execution_count": 24,
   "id": "powerful-sailing",
   "metadata": {},
   "outputs": [],
   "source": [
    "def model(x, y, n_h, learning_rate, iterations):\n",
    "    \n",
    "    ## Complete the Code Below ##\n",
    "    n_x = x.shape[0]                       # must return the number of neurons/features in input layer\n",
    "    n_y = y.shape[0]                       # must return the number of neurons in output layer\n",
    "    ## Your Code ends ##\n",
    "    \n",
    "    cost_list = []\n",
    "    \n",
    "    ## Complete the Code Below ##\n",
    "    parameters = initialize_parameters(n_x,n_h,n_y)\n",
    "    ## Your Code ends ##\n",
    "    \n",
    "    ## Complete the Code Below ##\n",
    "    for i in range(iterations):\n",
    "        \n",
    "        # Forward Propagation\n",
    "        forward_cache = forward_prop(x, parameters)\n",
    "        # Cost Function\n",
    "        cost = cost_function(forward_cache['a2'], y)\n",
    "        # Backward propagation\n",
    "        gradients = backward_prop(x, y, parameters, forward_cache)\n",
    "        \n",
    "        # Update Parameters\n",
    "        parameters = update_parameters(parameters, gradients, learning_rate)\n",
    "        \n",
    "        cost_list.append(cost)\n",
    "        \n",
    "        if i%10 == 0 :\n",
    "            print(\"cost after\", i, \"iters is\" ,     cost   )\n",
    "            \n",
    "            \n",
    "    ## Your Code ends ##\n",
    "    \n",
    "    \n",
    "    return parameters, cost_list"
   ]
  },
  {
   "cell_type": "code",
   "execution_count": 26,
   "id": "democratic-williams",
   "metadata": {},
   "outputs": [
    {
     "name": "stdout",
     "output_type": "stream",
     "text": [
      "cost after 0 iters is 2.3045369957388466\n",
      "cost after 10 iters is 1.8651107427166589\n",
      "cost after 20 iters is 1.5630399708168388\n",
      "cost after 30 iters is 1.3509438010966153\n",
      "cost after 40 iters is 1.196010554903014\n",
      "cost after 50 iters is 1.0785355517959807\n",
      "cost after 60 iters is 0.9865516806580715\n",
      "cost after 70 iters is 0.9125294660639914\n",
      "cost after 80 iters is 0.8515634096665118\n",
      "cost after 90 iters is 0.8003529580218597\n"
     ]
    },
    {
     "data": {
      "image/png": "[encoded data removed]",
      "text/plain": [
       "<Figure size 640x480 with 1 Axes>"
      ]
     },
     "metadata": {},
     "output_type": "display_data"
    },
    {
     "name": "stdout",
     "output_type": "stream",
     "text": [
      "cost after 0 iters is 2.301633413986531\n",
      "cost after 10 iters is 1.1314810779293107\n",
      "cost after 20 iters is 0.7918417449412023\n",
      "cost after 30 iters is 0.632121431619906\n",
      "cost after 40 iters is 0.5357271142386562\n",
      "cost after 50 iters is 0.4692256531051784\n",
      "cost after 60 iters is 0.41950055626755994\n",
      "cost after 70 iters is 0.380296496446966\n",
      "cost after 80 iters is 0.34822144767617563\n",
      "cost after 90 iters is 0.32126011363153945\n"
     ]
    },
    {
     "data": {
      "image/png": "[encoded data removed]",
      "text/plain": [
       "<Figure size 640x480 with 1 Axes>"
      ]
     },
     "metadata": {},
     "output_type": "display_data"
    },
    {
     "name": "stdout",
     "output_type": "stream",
     "text": [
      "cost after 0 iters is 2.3228169656770783\n",
      "cost after 10 iters is 1.1640621982602477\n",
      "cost after 20 iters is 0.8132413842594405\n",
      "cost after 30 iters is 0.6491563726842308\n",
      "cost after 40 iters is 0.5509405502619511\n",
      "cost after 50 iters is 0.48361320334225183\n",
      "cost after 60 iters is 0.433501126413447\n",
      "cost after 70 iters is 0.3941242688978703\n",
      "cost after 80 iters is 0.361986977690819\n",
      "cost after 90 iters is 0.3350211819467406\n"
     ]
    },
    {
     "data": {
      "image/png": "[encoded data removed]",
      "text/plain": [
       "<Figure size 640x480 with 1 Axes>"
      ]
     },
     "metadata": {},
     "output_type": "display_data"
    }
   ],
   "source": [
    "## Complete the Code Below ##\n",
    "\n",
    "n_h = 500\n",
    "learning_rate = 0.01\n",
    "iterations = 100\n",
    "\n",
    "## Your Code ends ##\n",
    "\n",
    "Parameters, Cost_list = model(X_train, Y_train, n_h = n_h, learning_rate = learning_rate, iterations = iterations)\n",
    "\n",
    "t = np.arange(0, iterations)\n",
    "plt.plot(t, Cost_list)\n",
    "plt.show()\n",
    "\n",
    "## Complete the Code Below ##\n",
    "\n",
    "n_h = 750\n",
    "learning_rate = 0.03\n",
    "\n",
    "## Your Code ends ##\n",
    "\n",
    "Parameters, Cost_list = model(X_train, Y_train, n_h = n_h, learning_rate = learning_rate, iterations = iterations)\n",
    "\n",
    "t = np.arange(0, iterations)\n",
    "plt.plot(t, Cost_list)\n",
    "plt.show()\n",
    "\n",
    "## Complete the Code Below ##\n",
    "\n",
    "n_h = 1000\n",
    "learning_rate = 0.02\n",
    "\n",
    "## Your Code ends ##\n",
    "\n",
    "Parameters, Cost_list = model(X_train, Y_train, n_h = n_h, learning_rate = learning_rate, iterations = iterations)\n",
    "\n",
    "t = np.arange(0, iterations)\n",
    "plt.plot(t, Cost_list)\n",
    "plt.show()\n"
   ]
  },
  {
   "cell_type": "markdown",
   "id": "apparent-contribution",
   "metadata": {},
   "source": [
    "# Checking Accuracy\n",
    "\n",
    "Run the below cells to check your model Accuracy "
   ]
  },
  {
   "cell_type": "code",
   "execution_count": 27,
   "id": "alone-liver",
   "metadata": {},
   "outputs": [],
   "source": [
    "def accuracy(inp, labels, parameters):\n",
    "    forward_cache = forward_prop(inp, parameters)\n",
    "    a_out = forward_cache['a2']   # containes propabilities with shape(10, 1)\n",
    "    \n",
    "    a_out = np.argmax(a_out, 0)  # 0 represents row wise \n",
    "    \n",
    "    labels = np.argmax(labels, 0)\n",
    "    \n",
    "    acc = np.mean(a_out == labels)*100\n",
    "    \n",
    "    return acc"
   ]
  },
  {
   "cell_type": "code",
   "execution_count": 28,
   "id": "later-brake",
   "metadata": {},
   "outputs": [
    {
     "name": "stdout",
     "output_type": "stream",
     "text": [
      "Accuracy of Train Dataset 95.19999999999999 %\n",
      "Accuracy of Test Dataset 86.57 %\n"
     ]
    }
   ],
   "source": [
    "print(\"Accuracy of Train Dataset\", accuracy(X_train, Y_train, Parameters), \"%\")\n",
    "print(\"Accuracy of Test Dataset\", round(accuracy(X_test, Y_test, Parameters), 2), \"%\")"
   ]
  },
  {
   "cell_type": "code",
   "execution_count": 29,
   "id": "banned-clone",
   "metadata": {},
   "outputs": [
    {
     "data": {
      "image/png": "[encoded data removed]",
      "text/plain": [
       "<Figure size 640x480 with 1 Axes>"
      ]
     },
     "metadata": {},
     "output_type": "display_data"
    },
    {
     "name": "stdout",
     "output_type": "stream",
     "text": [
      "Our model says it is : 3\n"
     ]
    }
   ],
   "source": [
    "idx = int(random.randrange(0,X_test.shape[1]))\n",
    "plt.imshow(X_test[:, idx].reshape((28,28)),cmap='gray')\n",
    "plt.show()\n",
    "\n",
    "cache = forward_prop(X_test[:, idx].reshape(X_test[:, idx].shape[0], 1), Parameters)\n",
    "a_pred = cache['a2']  \n",
    "a_pred = np.argmax(a_pred, 0)\n",
    "\n",
    "print(\"Our model says it is :\", a_pred[0])"
   ]
  },
  {
   "cell_type": "code",
   "execution_count": null,
   "id": "pediatric-submission",
   "metadata": {},
   "outputs": [],
   "source": []
  },
  {
   "cell_type": "code",
   "execution_count": null,
   "id": "3070f651",
   "metadata": {},
   "outputs": [],
   "source": []
  }
 ],
 "metadata": {
  "kernelspec": {
   "display_name": "Python 3",
   "language": "python",
   "name": "python3"
  },
  "language_info": {
   "codemirror_mode": {
    "name": "ipython",
    "version": 3
   },
   "file_extension": ".py",
   "mimetype": "text/x-python",
   "name": "python",
   "nbconvert_exporter": "python",
   "pygments_lexer": "ipython3",
   "version": "3.11.6"
  }
 },
 "nbformat": 4,
 "nbformat_minor": 5
}
